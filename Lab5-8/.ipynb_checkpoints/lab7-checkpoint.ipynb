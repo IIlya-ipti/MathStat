{
 "cells": [
  {
   "cell_type": "code",
   "execution_count": 60,
   "metadata": {},
   "outputs": [],
   "source": [
    "%matplotlib inline\n",
    "import scipy.stats as st\n",
    "import numpy as np\n",
    "import matplotlib.pyplot as plt\n",
    "import seaborn as sns\n",
    "from matplotlib.pyplot import figure\n",
    "import matplotlib as mpl\n",
    "mpl.rcParams['figure.dpi'] = 400"
   ]
  },
  {
   "cell_type": "markdown",
   "metadata": {},
   "source": [
    "# Проверка гипотезы распределения используя критерий Пирсона\n",
    ". Сгенерировать выборку объёмом 100 элементов для нормального распределения $N(x, 0, 1)$. По сгенерированной выборке оценить параметры 𝜇 и 𝜎 нормального закона методом максимального правдоподобия.\n",
    "В качестве основной гипотезы 𝐻0 будем считать, что сгенерированное\n",
    "распределение имеет вид $N(x, \\hat{\\mu}, \\hat{\\sigma})$. Проверить основную гипотезу, используя критерий согласия $\\chi^2 $\n",
    ". В качестве уровня значимости взять\n",
    "𝛼 = 0.05. Привести таблицу вычислений $\\chi^2 $\n",
    ".\n",
    "Исследовать точность (чувствительность) критерия $\\chi^2 $\n",
    "- сгенерировать выборки равномерного распределения и распределения Лапласа\n",
    "малого объема (например, 20 элементов). Проверить их на нормальность.\n"
   ]
  },
  {
   "cell_type": "code",
   "execution_count": 63,
   "metadata": {},
   "outputs": [],
   "source": [
    "# размер выборки\n",
    "N = 20\n",
    "\n",
    "# выборка:\n",
    "data = st.norm.rvs(size=N)\n",
    "\n"
   ]
  },
  {
   "cell_type": "markdown",
   "metadata": {},
   "source": [
    "Метод максимального правдоподобия (о.м.п.)"
   ]
  },
  {
   "cell_type": "code",
   "execution_count": 4,
   "metadata": {},
   "outputs": [],
   "source": [
    "def OMP(array):\n",
    "    mean = array.mean()\n",
    "    std = array.std()\n",
    "    return {\n",
    "        'mean' : mean,\n",
    "        'std' : std\n",
    "    }"
   ]
  },
  {
   "cell_type": "markdown",
   "metadata": {},
   "source": [
    "Критерий Пирсона для оценки гипотезы о распределении"
   ]
  },
  {
   "cell_type": "code",
   "execution_count": 57,
   "metadata": {},
   "outputs": [],
   "source": [
    "def Pirson(data,func):\n",
    "    \n",
    "    N = len(data)\n",
    "    \n",
    "    # extimation of sigma and mean\n",
    "    L = OMP(data)\n",
    "    \n",
    "    try:\n",
    "        func = func(L['mean'],L['std'])\n",
    "    except TypeError:\n",
    "        print(\"cont\")\n",
    "    \n",
    "    print(\"mean : \",L['mean'])\n",
    "    print(\"std : \",L['std'])\n",
    "    \n",
    "    \n",
    "\n",
    "\n",
    "    # степени свободы\n",
    "    CONST_DEGREES_OF_FREEDOM = 6\n",
    "\n",
    "    # начальное значение и конечное значение отрезка\n",
    "    start = min(data)\n",
    "    end = max(data)\n",
    "    \n",
    "    start = -2.45\n",
    "    end = 2.14\n",
    "    val = np.linspace(start,end,CONST_DEGREES_OF_FREEDOM - 1)\n",
    "    \n",
    "    \n",
    "    probablity = []\n",
    "    probablity_sel = []\n",
    "    for i in range(0,len(val) + 1):\n",
    "        if i == 0:\n",
    "            probablity.append(func.cdf(val[i]))\n",
    "            probablity_sel.append(sum(data <= val[i]))\n",
    "        elif i == len(val):\n",
    "            probablity.append(1 - func.cdf(val[i - 1]))\n",
    "            probablity_sel.append(sum(data > val[i - 1]))\n",
    "        else:\n",
    "            probablity.append(func.cdf(val[i]) -func.cdf(val[i - 1]) )\n",
    "            probablity_sel.append(sum(np.bitwise_and(data <= val[i],data > val[i - 1])))\n",
    "    \n",
    "    ni__npi = 0\n",
    "    npi = 0\n",
    "    pi = 0\n",
    "    hi = 0\n",
    "    n = 0\n",
    "    print(\"n\\tpi\\tnpi\\tni - npi\\t(ni - npi)/(npi)\")\n",
    "    for i in range(CONST_DEGREES_OF_FREEDOM):\n",
    "        hi += (probablity_sel[i] - N*probablity[i])**2/(N * probablity[i] + 0.001)\n",
    "        n += probablity_sel[i]\n",
    "        pi += probablity[i]\n",
    "        npi += N*probablity[i]\n",
    "        ni__npi += probablity_sel[i] - N*probablity[i]\n",
    "        print(str(probablity_sel[i]),\n",
    "            format(probablity[i],'.2f'),\n",
    "            format(N*probablity[i],'.2f'),\n",
    "            format(probablity_sel[i] - N*probablity[i],'.2f') + \"\\t\",\n",
    "            format((probablity_sel[i] - N*probablity[i])**2/(N * probablity[i]  +0.000001),'.2f') ,\n",
    "             sep=\"\\t\")\n",
    "    print(str(n),\n",
    "        format(pi,'.2f'),\n",
    "        format(npi,'.2f'),\n",
    "        format(ni__npi,'.2f') + \"\\t\",\n",
    "        format(hi,'.2f') ,\n",
    "         sep=\"\\t\")\n",
    "    print(val)\n",
    "    return hi,CONST_DEGREES_OF_FREEDOM\n",
    "\n"
   ]
  },
  {
   "cell_type": "code",
   "execution_count": 58,
   "metadata": {},
   "outputs": [
    {
     "name": "stdout",
     "output_type": "stream",
     "text": [
      "mean :  0.015686317985955024\n",
      "std :  0.9953028064407868\n",
      "n\tpi\tnpi\tni - npi\t(ni - npi)/(npi)\n",
      "0\t0.01\t0.66\t-0.66\t\t0.66\n",
      "8\t0.09\t8.61\t-0.61\t\t0.04\n",
      "41\t0.34\t33.92\t7.08\t\t1.48\n",
      "34\t0.40\t40.49\t-6.49\t\t1.04\n",
      "15\t0.15\t14.68\t0.32\t\t0.01\n",
      "2\t0.02\t1.64\t0.36\t\t0.08\n",
      "100\t1.00\t100.00\t-0.00\t\t3.31\n",
      "[-2.45   -1.3025 -0.155   0.9925  2.14  ]\n"
     ]
    },
    {
     "data": {
      "text/plain": [
       "(3.3053251293499706, 6)"
      ]
     },
     "execution_count": 58,
     "metadata": {},
     "output_type": "execute_result"
    }
   ],
   "source": [
    "Pirson(data,st.norm)"
   ]
  },
  {
   "cell_type": "code",
   "execution_count": 64,
   "metadata": {},
   "outputs": [
    {
     "name": "stdout",
     "output_type": "stream",
     "text": [
      "mean :  -0.1405616301401602\n",
      "std :  0.9876860572128585\n",
      "n\tpi\tnpi\tni - npi\t(ni - npi)/(npi)\n",
      "0\t0.05\t0.96\t-0.96\t\t0.96\n",
      "2\t0.11\t2.12\t-0.12\t\t0.01\n",
      "9\t0.34\t6.77\t2.23\t\t0.73\n",
      "6\t0.35\t6.97\t-0.97\t\t0.13\n",
      "3\t0.11\t2.18\t0.82\t\t0.31\n",
      "0\t0.05\t0.99\t-0.99\t\t0.99\n",
      "20\t1.00\t20.00\t0.00\t\t3.14\n",
      "[-2.45   -1.3025 -0.155   0.9925  2.14  ]\n"
     ]
    },
    {
     "data": {
      "text/plain": [
       "(3.1385999207544435, 6)"
      ]
     },
     "execution_count": 64,
     "metadata": {},
     "output_type": "execute_result"
    }
   ],
   "source": [
    "Pirson(data,st.laplace)"
   ]
  },
  {
   "cell_type": "code",
   "execution_count": 44,
   "metadata": {},
   "outputs": [
    {
     "name": "stdout",
     "output_type": "stream",
     "text": [
      "cont\n",
      "mean :  0.015686317985955024\n",
      "std :  0.9953028064407868\n",
      "n\tpi\tnpi\tni - npi\t(ni - npi)/(npi)\n",
      "0\t0.00\t0.00\t0.00\t\t0.00\n",
      "2\t0.00\t0.00\t0.00\t\t4000000.00\n",
      "6\t0.12\t12.40\t-12.28\t\t3.30\n",
      "15\t0.17\t16.56\t-16.40\t\t0.15\n",
      "26\t0.17\t16.56\t-16.40\t\t5.38\n",
      "19\t0.17\t16.56\t-16.40\t\t0.36\n",
      "15\t0.17\t16.56\t-16.40\t\t0.15\n",
      "10\t0.17\t16.56\t-16.40\t\t2.60\n",
      "5\t0.05\t4.79\t-4.74\t\t0.01\n",
      "2\t0.00\t0.00\t0.00\t\t4000000.00\n",
      "100\t1.00\t100.00\t-99.00\t\t8011.94\n",
      "[-2.45    -1.87625 -1.3025  -0.72875 -0.155    0.41875  0.9925   1.56625\n",
      "  2.14   ]\n"
     ]
    },
    {
     "data": {
      "text/plain": [
       "(8011.9432131455105, 10)"
      ]
     },
     "execution_count": 44,
     "metadata": {},
     "output_type": "execute_result"
    }
   ],
   "source": [
    "alpha = -3**0.5\n",
    "scale = -alpha * 2\n",
    "Pirson(data,st.uniform(alpha,scale))"
   ]
  },
  {
   "cell_type": "code",
   "execution_count": null,
   "metadata": {},
   "outputs": [],
   "source": []
  },
  {
   "cell_type": "code",
   "execution_count": null,
   "metadata": {},
   "outputs": [],
   "source": []
  },
  {
   "cell_type": "code",
   "execution_count": null,
   "metadata": {},
   "outputs": [],
   "source": []
  }
 ],
 "metadata": {
  "kernelspec": {
   "display_name": "Python 3",
   "language": "python",
   "name": "python3"
  },
  "language_info": {
   "codemirror_mode": {
    "name": "ipython",
    "version": 3
   },
   "file_extension": ".py",
   "mimetype": "text/x-python",
   "name": "python",
   "nbconvert_exporter": "python",
   "pygments_lexer": "ipython3",
   "version": "3.8.5"
  }
 },
 "nbformat": 4,
 "nbformat_minor": 4
}

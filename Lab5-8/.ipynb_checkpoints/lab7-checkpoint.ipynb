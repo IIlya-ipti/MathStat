{
 "cells": [
  {
   "cell_type": "code",
   "execution_count": 3,
   "metadata": {},
   "outputs": [],
   "source": [
    "%matplotlib inline\n",
    "import scipy.stats as st\n",
    "import numpy as np\n",
    "import matplotlib.pyplot as plt\n",
    "import seaborn as sns\n",
    "from matplotlib.pyplot import figure\n",
    "import matplotlib as mpl\n",
    "mpl.rcParams['figure.dpi'] = 400"
   ]
  },
  {
   "cell_type": "markdown",
   "metadata": {},
   "source": [
    "# Проверка гипотезы распределения используя критерий Пирсона\n",
    ". Сгенерировать выборку объёмом 100 элементов для нормального распределения $N(x, 0, 1)$. По сгенерированной выборке оценить параметры 𝜇 и 𝜎 нормального закона методом максимального правдоподобия.\n",
    "В качестве основной гипотезы 𝐻0 будем считать, что сгенерированное\n",
    "распределение имеет вид $N(x, \\hat{\\mu}, \\hat{\\sigma})$. Проверить основную гипотезу, используя критерий согласия $\\chi^2 $\n",
    ". В качестве уровня значимости взять\n",
    "𝛼 = 0.05. Привести таблицу вычислений $\\chi^2 $\n",
    ".\n",
    "Исследовать точность (чувствительность) критерия $\\chi^2 $\n",
    "- сгенерировать выборки равномерного распределения и распределения Лапласа\n",
    "малого объема (например, 20 элементов). Проверить их на нормальность.\n"
   ]
  },
  {
   "cell_type": "code",
   "execution_count": 492,
   "metadata": {},
   "outputs": [],
   "source": [
    "# размер выборки\n",
    "N = 1000\n",
    "\n",
    "# выборка:\n",
    "data = st.norm.rvs(size=N)\n",
    "\n"
   ]
  },
  {
   "cell_type": "markdown",
   "metadata": {},
   "source": [
    "Метод максимального правдоподобия (о.м.п.)"
   ]
  },
  {
   "cell_type": "code",
   "execution_count": 493,
   "metadata": {},
   "outputs": [],
   "source": [
    "def OMP(array):\n",
    "    mean = array.mean()\n",
    "    std = array.std()\n",
    "    return {\n",
    "        'mean' : mean,\n",
    "        'std' : std\n",
    "    }"
   ]
  },
  {
   "cell_type": "markdown",
   "metadata": {},
   "source": [
    "Критерий Пирсона для оценки гипотезы о распределении"
   ]
  },
  {
   "cell_type": "code",
   "execution_count": 494,
   "metadata": {},
   "outputs": [],
   "source": [
    "def Pirson(data,func):\n",
    "    N = len(data)\n",
    "    \n",
    "    # extimation of sigma and mean\n",
    "    L = OMP(data)\n",
    "    func = func(L['mean'],L['std'])\n",
    "    \n",
    "\n",
    "\n",
    "    # степени свободы\n",
    "    CONST_DEGREES_OF_FREEDOM = 7\n",
    "\n",
    "    # начальное значение и конечное значение отрезка\n",
    "    start = min(data)\n",
    "    end = max(data)\n",
    "    val = np.linspace(start,end,CONST_DEGREES_OF_FREEDOM - 1)\n",
    "    \n",
    "    probablity = []\n",
    "    probablity_sel = []\n",
    "    for i in range(0,len(val) + 1):\n",
    "        if i == 0:\n",
    "            probablity.append(func.cdf(val[i]))\n",
    "            probablity_sel.append(sum(data <= val[i]))\n",
    "        elif i == len(val):\n",
    "            probablity.append(1 - func.cdf(val[i - 1]))\n",
    "            probablity_sel.append(sum(data > val[i - 1]))\n",
    "        else:\n",
    "            probablity.append(func.cdf(val[i]) -func.cdf(val[i - 1]) )\n",
    "            probablity_sel.append(sum(np.bitwise_and(data <= val[i],data > val[i - 1])))\n",
    "       \n",
    "        \n",
    "    hi = 0\n",
    "    print(\"n\\tpi\\tnpi\\tni - npi\\t(ni - npi)/(npi)\")\n",
    "    for i in range(CONST_DEGREES_OF_FREEDOM):\n",
    "        hi += (probablity_sel[i] - N*probablity[i])**2/(N * probablity[i])\n",
    "        print(str(probablity_sel[i]),\n",
    "            format(probablity[i],'.2f'),\n",
    "            format(N*probablity[i],'.2f'),\n",
    "            format(probablity[i] - N*probablity[i],'.2f') + \"\\t\",\n",
    "            format((probablity_sel[i] - N*probablity[i])**2/(N * probablity[i]),'.2f') ,\n",
    "             sep=\"\\t\")\n",
    "    return hi,CONST_DEGREES_OF_FREEDOM\n",
    "\n"
   ]
  },
  {
   "cell_type": "code",
   "execution_count": 498,
   "metadata": {},
   "outputs": [
    {
     "name": "stdout",
     "output_type": "stream",
     "text": [
      "n\tpi\tnpi\tni - npi\t(ni - npi)/(npi)\n",
      "1\t0.00\t0.77\t-0.77\t\t0.07\n",
      "20\t0.02\t22.73\t-22.71\t\t0.33\n",
      "208\t0.19\t186.64\t-186.45\t\t2.45\n",
      "412\t0.44\t435.80\t-435.36\t\t1.30\n",
      "306\t0.29\t294.05\t-293.76\t\t0.49\n",
      "53\t0.06\t56.89\t-56.83\t\t0.27\n",
      "0\t0.00\t3.12\t-3.12\t\t3.12\n"
     ]
    },
    {
     "data": {
      "text/plain": [
       "(8.011690367188342, 7)"
      ]
     },
     "execution_count": 498,
     "metadata": {},
     "output_type": "execute_result"
    }
   ],
   "source": [
    "Pirson(data,st.norm)"
   ]
  },
  {
   "cell_type": "code",
   "execution_count": 499,
   "metadata": {},
   "outputs": [
    {
     "name": "stdout",
     "output_type": "stream",
     "text": [
      "n\tpi\tnpi\tni - npi\t(ni - npi)/(npi)\n",
      "1\t0.02\t21.07\t-21.05\t\t19.12\n",
      "20\t0.05\t47.53\t-47.48\t\t15.95\n",
      "208\t0.15\t154.73\t-154.57\t\t18.34\n",
      "412\t0.43\t432.81\t-432.38\t\t1.00\n",
      "306\t0.24\t238.23\t-237.99\t\t19.28\n",
      "53\t0.07\t73.18\t-73.11\t\t5.56\n",
      "0\t0.03\t32.45\t-32.41\t\t32.45\n"
     ]
    },
    {
     "data": {
      "text/plain": [
       "(111.69552775106703, 7)"
      ]
     },
     "execution_count": 499,
     "metadata": {},
     "output_type": "execute_result"
    }
   ],
   "source": [
    "Pirson(data,st.laplace)"
   ]
  },
  {
   "cell_type": "code",
   "execution_count": null,
   "metadata": {},
   "outputs": [],
   "source": []
  },
  {
   "cell_type": "code",
   "execution_count": null,
   "metadata": {},
   "outputs": [],
   "source": []
  }
 ],
 "metadata": {
  "kernelspec": {
   "display_name": "Python 3",
   "language": "python",
   "name": "python3"
  },
  "language_info": {
   "codemirror_mode": {
    "name": "ipython",
    "version": 3
   },
   "file_extension": ".py",
   "mimetype": "text/x-python",
   "name": "python",
   "nbconvert_exporter": "python",
   "pygments_lexer": "ipython3",
   "version": "3.8.5"
  }
 },
 "nbformat": 4,
 "nbformat_minor": 4
}

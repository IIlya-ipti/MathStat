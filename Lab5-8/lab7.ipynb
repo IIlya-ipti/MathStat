{
 "cells": [
  {
   "cell_type": "code",
   "execution_count": 32,
   "metadata": {},
   "outputs": [],
   "source": [
    "%matplotlib inline\n",
    "import scipy.stats as st\n",
    "import numpy as np\n",
    "import matplotlib.pyplot as plt\n",
    "import seaborn as sns\n",
    "from matplotlib.pyplot import figure\n",
    "import matplotlib as mpl\n",
    "mpl.rcParams['figure.dpi'] = 400"
   ]
  },
  {
   "cell_type": "markdown",
   "metadata": {},
   "source": [
    "# Проверка гипотезы распределения используя критерий Пирсона\n",
    ". Сгенерировать выборку объёмом 100 элементов для нормального распределения $N(x, 0, 1)$. По сгенерированной выборке оценить параметры 𝜇 и 𝜎 нормального закона методом максимального правдоподобия.\n",
    "В качестве основной гипотезы 𝐻0 будем считать, что сгенерированное\n",
    "распределение имеет вид $N(x, \\hat{\\mu}, \\hat{\\sigma})$. Проверить основную гипотезу, используя критерий согласия $\\chi^2 $\n",
    ". В качестве уровня значимости взять\n",
    "𝛼 = 0.05. Привести таблицу вычислений $\\chi^2 $\n",
    ".\n",
    "Исследовать точность (чувствительность) критерия $\\chi^2 $\n",
    "- сгенерировать выборки равномерного распределения и распределения Лапласа\n",
    "малого объема (например, 20 элементов). Проверить их на нормальность.\n"
   ]
  },
  {
   "cell_type": "code",
   "execution_count": 33,
   "metadata": {},
   "outputs": [],
   "source": [
    "# размер выборки\n",
    "N = 100\n",
    "\n",
    "# выборка:\n",
    "data = st.norm.rvs(size=N)\n",
    "\n"
   ]
  },
  {
   "cell_type": "markdown",
   "metadata": {},
   "source": [
    "Метод максимального правдоподобия (о.м.п.)"
   ]
  },
  {
   "cell_type": "code",
   "execution_count": 34,
   "metadata": {},
   "outputs": [],
   "source": [
    "def OMP(array):\n",
    "    mean = array.mean()\n",
    "    std = array.std()\n",
    "    return {\n",
    "        'mean' : mean,\n",
    "        'std' : std\n",
    "    }"
   ]
  },
  {
   "cell_type": "markdown",
   "metadata": {},
   "source": [
    "Критерий Пирсона для оценки гипотезы о распределении"
   ]
  },
  {
   "cell_type": "code",
   "execution_count": 55,
   "metadata": {},
   "outputs": [],
   "source": [
    "def Pirson(data,func):\n",
    "    N = len(data)\n",
    "    \n",
    "    # extimation of sigma and mean\n",
    "    L = OMP(data)\n",
    "    func = func(L['mean'],L['std'])\n",
    "    print(\"mean : \",L['mean'])\n",
    "    print(\"std : \",L['std'])\n",
    "    \n",
    "    \n",
    "\n",
    "\n",
    "    # степени свободы\n",
    "    CONST_DEGREES_OF_FREEDOM = 10\n",
    "\n",
    "    # начальное значение и конечное значение отрезка\n",
    "    start = min(data)\n",
    "    end = max(data)\n",
    "    val = np.linspace(start,end,CONST_DEGREES_OF_FREEDOM - 1)\n",
    "    \n",
    "    probablity = []\n",
    "    probablity_sel = []\n",
    "    for i in range(0,len(val) + 1):\n",
    "        if i == 0:\n",
    "            probablity.append(func.cdf(val[i]))\n",
    "            probablity_sel.append(sum(data <= val[i]))\n",
    "        elif i == len(val):\n",
    "            probablity.append(1 - func.cdf(val[i - 1]))\n",
    "            probablity_sel.append(sum(data > val[i - 1]))\n",
    "        else:\n",
    "            probablity.append(func.cdf(val[i]) -func.cdf(val[i - 1]) )\n",
    "            probablity_sel.append(sum(np.bitwise_and(data <= val[i],data > val[i - 1])))\n",
    "       \n",
    "    ni__npi = 0\n",
    "    npi = 0\n",
    "    pi = 0\n",
    "    hi = 0\n",
    "    n = 0\n",
    "    print(\"n\\tpi\\tnpi\\tni - npi\\t(ni - npi)/(npi)\")\n",
    "    for i in range(CONST_DEGREES_OF_FREEDOM):\n",
    "        hi += (probablity_sel[i] - N*probablity[i])**2/(N * probablity[i] + 0.001)\n",
    "        n += probablity_sel[i]\n",
    "        pi += probablity[i]\n",
    "        npi += N*probablity[i]\n",
    "        ni__npi += probablity[i] - N*probablity[i]\n",
    "        print(str(probablity_sel[i]),\n",
    "            format(probablity[i],'.2f'),\n",
    "            format(N*probablity[i],'.2f'),\n",
    "            format(probablity[i] - N*probablity[i],'.2f') + \"\\t\",\n",
    "            format((probablity_sel[i] - N*probablity[i])**2/(N * probablity[i]  +0.001),'.2f') ,\n",
    "             sep=\"\\t\")\n",
    "    print(str(n),\n",
    "        format(pi,'.2f'),\n",
    "        format(npi,'.2f'),\n",
    "        format(ni__npi,'.2f') + \"\\t\",\n",
    "        format(hi,'.2f') ,\n",
    "         sep=\"\\t\")\n",
    "    print(val)\n",
    "    return hi,CONST_DEGREES_OF_FREEDOM\n",
    "\n"
   ]
  },
  {
   "cell_type": "code",
   "execution_count": 56,
   "metadata": {},
   "outputs": [
    {
     "name": "stdout",
     "output_type": "stream",
     "text": [
      "mean :  0.059999454477974494\n",
      "std :  0.9390321292045365\n",
      "n\tpi\tnpi\tni - npi\t(ni - npi)/(npi)\n",
      "1\t0.01\t0.54\t-0.54\t\t0.38\n",
      "2\t0.02\t2.45\t-2.42\t\t0.08\n",
      "9\t0.08\t8.17\t-8.09\t\t0.08\n",
      "20\t0.18\t17.82\t-17.65\t\t0.27\n",
      "20\t0.25\t25.41\t-25.15\t\t1.15\n",
      "22\t0.24\t23.67\t-23.44\t\t0.12\n",
      "19\t0.14\t14.42\t-14.28\t\t1.45\n",
      "5\t0.06\t5.74\t-5.68\t\t0.10\n",
      "2\t0.01\t1.49\t-1.48\t\t0.17\n",
      "0\t0.00\t0.28\t-0.28\t\t0.28\n",
      "100\t1.00\t100.00\t-99.00\t\t4.08\n",
      "[-2.33081573 -1.70720796 -1.08360019 -0.45999243  0.16361534  0.7872231\n",
      "  1.41083087  2.03443864  2.6580464 ]\n"
     ]
    },
    {
     "data": {
      "text/plain": [
       "(4.0849580608467795, 10)"
      ]
     },
     "execution_count": 56,
     "metadata": {},
     "output_type": "execute_result"
    }
   ],
   "source": [
    "Pirson(data,st.norm)"
   ]
  },
  {
   "cell_type": "code",
   "execution_count": 57,
   "metadata": {},
   "outputs": [
    {
     "name": "stdout",
     "output_type": "stream",
     "text": [
      "mean :  0.059999454477974494\n",
      "std :  0.9390321292045365\n",
      "n\tpi\tnpi\tni - npi\t(ni - npi)/(npi)\n",
      "1\t0.04\t3.92\t-3.88\t\t2.17\n",
      "2\t0.04\t3.70\t-3.66\t\t0.78\n",
      "9\t0.07\t7.18\t-7.11\t\t0.46\n",
      "20\t0.14\t13.95\t-13.81\t\t2.63\n",
      "20\t0.26\t26.48\t-26.22\t\t1.59\n",
      "22\t0.22\t21.73\t-21.51\t\t0.00\n",
      "19\t0.11\t11.18\t-11.07\t\t5.46\n",
      "5\t0.06\t5.76\t-5.70\t\t0.10\n",
      "2\t0.03\t2.96\t-2.93\t\t0.31\n",
      "0\t0.03\t3.14\t-3.11\t\t3.14\n",
      "100\t1.00\t100.00\t-99.00\t\t16.65\n",
      "[-2.33081573 -1.70720796 -1.08360019 -0.45999243  0.16361534  0.7872231\n",
      "  1.41083087  2.03443864  2.6580464 ]\n"
     ]
    },
    {
     "data": {
      "text/plain": [
       "(16.64830292214529, 10)"
      ]
     },
     "execution_count": 57,
     "metadata": {},
     "output_type": "execute_result"
    }
   ],
   "source": [
    "Pirson(data,st.laplace)"
   ]
  },
  {
   "cell_type": "code",
   "execution_count": 58,
   "metadata": {},
   "outputs": [
    {
     "name": "stdout",
     "output_type": "stream",
     "text": [
      "mean :  0.059999454477974494\n",
      "std :  0.9390321292045365\n",
      "n\tpi\tnpi\tni - npi\t(ni - npi)/(npi)\n",
      "1\t0.00\t0.00\t0.00\t\t1000.00\n",
      "2\t0.00\t0.00\t0.00\t\t4000.00\n",
      "9\t0.00\t0.00\t0.00\t\t81000.00\n",
      "20\t0.00\t0.00\t0.00\t\t400000.00\n",
      "20\t0.11\t11.03\t-10.92\t\t7.28\n",
      "22\t0.66\t66.41\t-65.75\t\t29.70\n",
      "19\t0.23\t22.56\t-22.33\t\t0.56\n",
      "5\t0.00\t0.00\t0.00\t\t25000.00\n",
      "2\t0.00\t0.00\t0.00\t\t4000.00\n",
      "0\t0.00\t0.00\t0.00\t\t0.00\n",
      "100\t1.00\t100.00\t-99.00\t\t515037.54\n",
      "[-2.33081573 -1.70720796 -1.08360019 -0.45999243  0.16361534  0.7872231\n",
      "  1.41083087  2.03443864  2.6580464 ]\n"
     ]
    },
    {
     "data": {
      "text/plain": [
       "(515037.5420572824, 10)"
      ]
     },
     "execution_count": 58,
     "metadata": {},
     "output_type": "execute_result"
    }
   ],
   "source": [
    "Pirson(data,st.uniform)"
   ]
  },
  {
   "cell_type": "code",
   "execution_count": null,
   "metadata": {},
   "outputs": [],
   "source": []
  },
  {
   "cell_type": "code",
   "execution_count": null,
   "metadata": {},
   "outputs": [],
   "source": []
  },
  {
   "cell_type": "code",
   "execution_count": null,
   "metadata": {},
   "outputs": [],
   "source": []
  }
 ],
 "metadata": {
  "kernelspec": {
   "display_name": "Python 3",
   "language": "python",
   "name": "python3"
  },
  "language_info": {
   "codemirror_mode": {
    "name": "ipython",
    "version": 3
   },
   "file_extension": ".py",
   "mimetype": "text/x-python",
   "name": "python",
   "nbconvert_exporter": "python",
   "pygments_lexer": "ipython3",
   "version": "3.8.5"
  }
 },
 "nbformat": 4,
 "nbformat_minor": 4
}

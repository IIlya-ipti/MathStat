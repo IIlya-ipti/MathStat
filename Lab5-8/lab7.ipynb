{
 "cells": [
  {
   "cell_type": "code",
   "execution_count": 2,
   "metadata": {},
   "outputs": [],
   "source": [
    "%matplotlib inline\n",
    "import scipy.stats as st\n",
    "import numpy as np\n",
    "import matplotlib.pyplot as plt\n",
    "import seaborn as sns\n",
    "from matplotlib.pyplot import figure\n",
    "import matplotlib as mpl\n",
    "mpl.rcParams['figure.dpi'] = 400"
   ]
  },
  {
   "cell_type": "markdown",
   "metadata": {},
   "source": [
    "# Проверка гипотезы распределения используя критерий Пирсона\n",
    ". Сгенерировать выборку объёмом 100 элементов для нормального распределения $N(x, 0, 1)$. По сгенерированной выборке оценить параметры 𝜇 и 𝜎 нормального закона методом максимального правдоподобия.\n",
    "В качестве основной гипотезы 𝐻0 будем считать, что сгенерированное\n",
    "распределение имеет вид $N(x, \\hat{\\mu}, \\hat{\\sigma})$. Проверить основную гипотезу, используя критерий согласия $\\chi^2 $\n",
    ". В качестве уровня значимости взять\n",
    "𝛼 = 0.05. Привести таблицу вычислений $\\chi^2 $\n",
    ".\n",
    "Исследовать точность (чувствительность) критерия $\\chi^2 $\n",
    "- сгенерировать выборки равномерного распределения и распределения Лапласа\n",
    "малого объема (например, 20 элементов). Проверить их на нормальность.\n"
   ]
  },
  {
   "cell_type": "code",
   "execution_count": 3,
   "metadata": {},
   "outputs": [],
   "source": [
    "# размер выборки\n",
    "N = 20\n",
    "\n",
    "# выборка:\n",
    "data = st.norm.rvs(size=N)\n",
    "\n"
   ]
  },
  {
   "cell_type": "markdown",
   "metadata": {},
   "source": [
    "Метод максимального правдоподобия (о.м.п.)"
   ]
  },
  {
   "cell_type": "code",
   "execution_count": 4,
   "metadata": {},
   "outputs": [],
   "source": [
    "def OMP(array):\n",
    "    mean = array.mean()\n",
    "    std = array.std()\n",
    "    return {\n",
    "        'mean' : mean,\n",
    "        'std' : std\n",
    "    }"
   ]
  },
  {
   "cell_type": "markdown",
   "metadata": {},
   "source": [
    "Критерий Пирсона для оценки гипотезы о распределении"
   ]
  },
  {
   "cell_type": "code",
   "execution_count": 5,
   "metadata": {},
   "outputs": [],
   "source": [
    "def Pirson(data,func):\n",
    "    \n",
    "    N = len(data)\n",
    "    \n",
    "    # extimation of sigma and mean\n",
    "    L = OMP(data)\n",
    "    \n",
    "    try:\n",
    "        func = func(L['mean'],L['std'])\n",
    "    except TypeError:\n",
    "        print(\"cont\")\n",
    "    \n",
    "    print(\"mean : \",L['mean'])\n",
    "    print(\"std : \",L['std'])\n",
    "    \n",
    "    \n",
    "\n",
    "\n",
    "    # степени свободы\n",
    "    CONST_DEGREES_OF_FREEDOM = 6\n",
    "\n",
    "    # начальное значение и конечное значение отрезка\n",
    "    start = min(data)\n",
    "    end = max(data)\n",
    "    \n",
    "    start = -2.45\n",
    "    end = 2.14\n",
    "    val = np.linspace(start,end,CONST_DEGREES_OF_FREEDOM - 1)\n",
    "    \n",
    "    \n",
    "    probablity = []\n",
    "    probablity_sel = []\n",
    "    for i in range(0,len(val) + 1):\n",
    "        if i == 0:\n",
    "            probablity.append(func.cdf(val[i]))\n",
    "            probablity_sel.append(sum(data <= val[i]))\n",
    "        elif i == len(val):\n",
    "            probablity.append(1 - func.cdf(val[i - 1]))\n",
    "            probablity_sel.append(sum(data > val[i - 1]))\n",
    "        else:\n",
    "            probablity.append(func.cdf(val[i]) -func.cdf(val[i - 1]) )\n",
    "            probablity_sel.append(sum(np.bitwise_and(data <= val[i],data > val[i - 1])))\n",
    "    \n",
    "    ni__npi = 0\n",
    "    npi = 0\n",
    "    pi = 0\n",
    "    hi = 0\n",
    "    n = 0\n",
    "    print(\"n\\tpi\\tnpi\\tni - npi\\t(ni - npi)/(npi)\")\n",
    "    for i in range(CONST_DEGREES_OF_FREEDOM):\n",
    "        hi += (probablity_sel[i] - N*probablity[i])**2/(N * probablity[i] + 0.001)\n",
    "        n += probablity_sel[i]\n",
    "        pi += probablity[i]\n",
    "        npi += N*probablity[i]\n",
    "        ni__npi += probablity_sel[i] - N*probablity[i]\n",
    "        print(str(probablity_sel[i]),\n",
    "            format(probablity[i],'.2f'),\n",
    "            format(N*probablity[i],'.2f'),\n",
    "            format(probablity_sel[i] - N*probablity[i],'.2f') + \"\\t\",\n",
    "            format((probablity_sel[i] - N*probablity[i])**2/(N * probablity[i]  +0.000001),'.2f') ,\n",
    "             sep=\"\\t\")\n",
    "    print(str(n),\n",
    "        format(pi,'.2f'),\n",
    "        format(npi,'.2f'),\n",
    "        format(ni__npi,'.2f') + \"\\t\",\n",
    "        format(hi,'.2f') ,\n",
    "         sep=\"\\t\")\n",
    "    print(val)\n",
    "    return hi,CONST_DEGREES_OF_FREEDOM\n",
    "\n"
   ]
  },
  {
   "cell_type": "code",
   "execution_count": 6,
   "metadata": {},
   "outputs": [
    {
     "name": "stdout",
     "output_type": "stream",
     "text": [
      "mean :  -0.24112777950542644\n",
      "std :  1.1656305199969916\n",
      "n\tpi\tnpi\tni - npi\t(ni - npi)/(npi)\n",
      "1\t0.03\t0.58\t0.42\t\t0.30\n",
      "1\t0.15\t3.04\t-2.04\t\t1.37\n",
      "10\t0.35\t6.96\t3.04\t\t1.32\n",
      "4\t0.33\t6.51\t-2.51\t\t0.97\n",
      "4\t0.12\t2.49\t1.51\t\t0.92\n",
      "0\t0.02\t0.41\t-0.41\t\t0.41\n",
      "20\t1.00\t20.00\t0.00\t\t5.29\n",
      "[-2.45   -1.3025 -0.155   0.9925  2.14  ]\n"
     ]
    },
    {
     "data": {
      "text/plain": [
       "(5.294484287633448, 6)"
      ]
     },
     "execution_count": 6,
     "metadata": {},
     "output_type": "execute_result"
    }
   ],
   "source": [
    "Pirson(data,st.norm)"
   ]
  },
  {
   "cell_type": "code",
   "execution_count": 7,
   "metadata": {},
   "outputs": [
    {
     "name": "stdout",
     "output_type": "stream",
     "text": [
      "mean :  -0.24112777950542644\n",
      "std :  1.1656305199969916\n",
      "n\tpi\tnpi\tni - npi\t(ni - npi)/(npi)\n",
      "1\t0.08\t1.50\t-0.50\t\t0.17\n",
      "1\t0.13\t2.52\t-1.52\t\t0.92\n",
      "10\t0.33\t6.69\t3.31\t\t1.64\n",
      "4\t0.29\t5.82\t-1.82\t\t0.57\n",
      "4\t0.11\t2.17\t1.83\t\t1.53\n",
      "0\t0.06\t1.30\t-1.30\t\t1.30\n",
      "20\t1.00\t20.00\t0.00\t\t6.12\n",
      "[-2.45   -1.3025 -0.155   0.9925  2.14  ]\n"
     ]
    },
    {
     "data": {
      "text/plain": [
       "(6.120177990500319, 6)"
      ]
     },
     "execution_count": 7,
     "metadata": {},
     "output_type": "execute_result"
    }
   ],
   "source": [
    "Pirson(data,st.laplace)"
   ]
  },
  {
   "cell_type": "code",
   "execution_count": 8,
   "metadata": {},
   "outputs": [
    {
     "name": "stdout",
     "output_type": "stream",
     "text": [
      "cont\n",
      "mean :  -0.24112777950542644\n",
      "std :  1.1656305199969916\n",
      "n\tpi\tnpi\tni - npi\t(ni - npi)/(npi)\n",
      "1\t0.00\t0.00\t1.00\t\t1000000.00\n",
      "1\t0.12\t2.48\t-1.48\t\t0.88\n",
      "10\t0.33\t6.63\t3.37\t\t1.72\n",
      "4\t0.33\t6.63\t-2.63\t\t1.04\n",
      "4\t0.21\t4.27\t-0.27\t\t0.02\n",
      "0\t0.00\t0.00\t0.00\t\t0.00\n",
      "20\t1.00\t20.00\t-0.00\t\t1003.66\n",
      "[-2.45   -1.3025 -0.155   0.9925  2.14  ]\n"
     ]
    },
    {
     "data": {
      "text/plain": [
       "(1003.6588813005613, 6)"
      ]
     },
     "execution_count": 8,
     "metadata": {},
     "output_type": "execute_result"
    }
   ],
   "source": [
    "alpha = -3**0.5\n",
    "scale = -alpha * 2\n",
    "Pirson(data,st.uniform(alpha,scale))"
   ]
  },
  {
   "cell_type": "code",
   "execution_count": null,
   "metadata": {},
   "outputs": [],
   "source": []
  },
  {
   "cell_type": "code",
   "execution_count": null,
   "metadata": {},
   "outputs": [],
   "source": []
  },
  {
   "cell_type": "code",
   "execution_count": null,
   "metadata": {},
   "outputs": [],
   "source": []
  },
  {
   "cell_type": "code",
   "execution_count": null,
   "metadata": {},
   "outputs": [],
   "source": []
  },
  {
   "cell_type": "code",
   "execution_count": null,
   "metadata": {},
   "outputs": [],
   "source": []
  },
  {
   "cell_type": "code",
   "execution_count": null,
   "metadata": {},
   "outputs": [],
   "source": []
  },
  {
   "cell_type": "code",
   "execution_count": null,
   "metadata": {},
   "outputs": [],
   "source": []
  },
  {
   "cell_type": "code",
   "execution_count": null,
   "metadata": {},
   "outputs": [],
   "source": []
  },
  {
   "cell_type": "code",
   "execution_count": null,
   "metadata": {},
   "outputs": [],
   "source": []
  }
 ],
 "metadata": {
  "kernelspec": {
   "display_name": "Python 3",
   "language": "python",
   "name": "python3"
  },
  "language_info": {
   "codemirror_mode": {
    "name": "ipython",
    "version": 3
   },
   "file_extension": ".py",
   "mimetype": "text/x-python",
   "name": "python",
   "nbconvert_exporter": "python",
   "pygments_lexer": "ipython3",
   "version": "3.8.5"
  }
 },
 "nbformat": 4,
 "nbformat_minor": 4
}

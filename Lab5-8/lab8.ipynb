{
 "cells": [
  {
   "cell_type": "code",
   "execution_count": 178,
   "metadata": {},
   "outputs": [],
   "source": [
    "%matplotlib inline\n",
    "import scipy.stats as st\n",
    "import numpy as np\n",
    "import matplotlib.pyplot as plt\n",
    "import seaborn as sns\n",
    "from matplotlib.pyplot import figure\n",
    "import matplotlib as mpl\n",
    "mpl.rcParams['figure.dpi'] = 400"
   ]
  },
  {
   "cell_type": "markdown",
   "metadata": {},
   "source": [
    "## Асимптотические норальные интервальные оценки и классические интервальные на основе кси квадратт и Стьюдента\n",
    "Для двух выборок размерами 20 и 100 элементов, сгенерированных\n",
    "согласно нормальному закону $N(x,0,1)$, для параметров положения и\n",
    "масштаба построить асимптотически нормальные интервальные оценки на основе точечных оценок метода максимального правдоподобия\n",
    "и классические интервальные оценки на основе статистик $\\chi^2$и Стьюдента. В качестве параметра надёжности взять $\\gamma$ = 0.95.\n"
   ]
  },
  {
   "cell_type": "markdown",
   "metadata": {},
   "source": [
    "Доверительный интервал для мат ожидания на основе статистик Стюдента и кси квадрат"
   ]
  },
  {
   "cell_type": "code",
   "execution_count": 179,
   "metadata": {},
   "outputs": [],
   "source": [
    "def conf_int_mean(array):\n",
    "     # степени свободы\n",
    "    CONST_DEGREES_OF_FREEDOM = len(array)\n",
    "    \n",
    "    # уровень значимости\n",
    "    alpha = 0.05\n",
    "    \n",
    "    # среднеквадратичное отклонение и мат ожидание из максимального правдоподобия\n",
    "    x_mean = array.mean()\n",
    "    std = array.std()\n",
    "    \n",
    "    ta = st.t.ppf(1- alpha/2,CONST_DEGREES_OF_FREEDOM - 1)\n",
    "    \n",
    "    return [\n",
    "        x_mean - std * ta/(CONST_DEGREES_OF_FREEDOM - 1) ** 0.5,\n",
    "        x_mean + std * ta/(CONST_DEGREES_OF_FREEDOM - 1) ** 0.5\n",
    "    ]"
   ]
  },
  {
   "cell_type": "markdown",
   "metadata": {},
   "source": [
    "Доверительный интервал для среднеквадратичного отклонения на основе статистик Стюдента и кси квадрат"
   ]
  },
  {
   "cell_type": "code",
   "execution_count": 180,
   "metadata": {},
   "outputs": [],
   "source": [
    "def conf_int_sig(array):\n",
    "    \n",
    "     # степени свободы\n",
    "    CONST_DEGREES_OF_FREEDOM = len(array)\n",
    "    \n",
    "    # уровень значимости\n",
    "    alpha = 0.05\n",
    "    \n",
    "    # среднеквадратичное отклонение из максимального правдоподобия\n",
    "    std = array.std()\n",
    "    \n",
    "    chi_left = st.chi2.ppf(1- alpha/2,CONST_DEGREES_OF_FREEDOM - 1)\n",
    "    chi_right = st.chi.ppf(alpha/2, CONST_DEGREES_OF_FREEDOM - 1)\n",
    "    \n",
    "    return [\n",
    "        std * (CONST_DEGREES_OF_FREEDOM ** 0.5) / (chi_left ** 0.5),\n",
    "        std * (CONST_DEGREES_OF_FREEDOM ** 0.5) / (chi_right ** 0.5)\n",
    "    ]\n",
    "    "
   ]
  },
  {
   "cell_type": "markdown",
   "metadata": {},
   "source": [
    " Асимптотически нормальные интервальные оценки для мат ожидания"
   ]
  },
  {
   "cell_type": "code",
   "execution_count": 181,
   "metadata": {},
   "outputs": [],
   "source": [
    "def asymptotic_mean(array):\n",
    "    \n",
    "    # длина массива\n",
    "    n = len(array)\n",
    "    \n",
    "     # уровень значимости\n",
    "    alpha = 0.05\n",
    "    \n",
    "    # среднеквадратичное отклонение  и мат ожидание из максимального правдоподобия\n",
    "    std = array.std()\n",
    "    x_mean = array.mean()\n",
    "\n",
    "    \n",
    "    # квантиль нормального распределения\n",
    "    ua = st.norm.ppf(1 - alpha/2);\n",
    "    \n",
    "    return [\n",
    "        x_mean - std*ua/(n ** 0.5),\n",
    "        x_mean + std*ua/(n ** 0.5)\n",
    "    ]\n",
    "    "
   ]
  },
  {
   "cell_type": "markdown",
   "metadata": {},
   "source": [
    "Асимптотически нормальные интервальные оценки для среднеквадратичного отклонения"
   ]
  },
  {
   "cell_type": "code",
   "execution_count": 182,
   "metadata": {},
   "outputs": [],
   "source": [
    "def asymptotic_std(array):\n",
    "    \n",
    "    # длина массива\n",
    "    n = len(array)\n",
    "    \n",
    "     # уровень значимости\n",
    "    alpha = 0.05\n",
    "    \n",
    "    # среднеквадратичное отклонение  и мат ожидание из максимального правдоподобия\n",
    "    std = array.std()\n",
    "    x_mean = array.mean()\n",
    "\n",
    "    \n",
    "    # квантиль нормального распределения\n",
    "    ua = st.norm.ppf(1 - alpha/2);\n",
    "    \n",
    "    # выборочный эксцесс\n",
    "    e = st.moment(array,moment = 4)/std ** 4 - 3\n",
    "    \n",
    "    U = ua * (((e + 2)/n)**0.5)\n",
    "    \n",
    "    return [\n",
    "        std*(1 - 0.5 * U),\n",
    "        std*(1 + 0.5 * U)\n",
    "    ]\n",
    "    "
   ]
  },
  {
   "cell_type": "code",
   "execution_count": 188,
   "metadata": {},
   "outputs": [
    {
     "name": "stdout",
     "output_type": "stream",
     "text": [
      "\n",
      "n = 20\n",
      "mean : [-0.8669379244398472, 0.03889355551793411]\n",
      "std : [0.7359561264994875, 2.4417883848909296]\n",
      "\n",
      "n = 100\n",
      "mean : [-0.07282823729606505, 0.33264579209381606]\n",
      "std : [0.8971019352675056, 3.4737220034944225]\n"
     ]
    }
   ],
   "source": [
    "data = st.norm.rvs(size=20)\n",
    "\n",
    "print(\"\\nn = \" + str(len(data)))\n",
    "print(\"mean : \" + str(conf_int_mean(data)))\n",
    "print(\"std : \"  + str(conf_int_sig(data)))\n",
    "\n",
    "data = st.norm.rvs(size=100)\n",
    "\n",
    "\n",
    "print(\"\\nn = \" + str(len(data)))\n",
    "print(\"mean : \" + str(conf_int_mean(data)))\n",
    "print(\"std : \"  + str(conf_int_sig(data)))\n"
   ]
  },
  {
   "cell_type": "code",
   "execution_count": 191,
   "metadata": {},
   "outputs": [
    {
     "name": "stdout",
     "output_type": "stream",
     "text": [
      "\n",
      "asympt n = 20\n",
      "mean : [-0.6438776896462705, 0.2347462596827845]\n",
      "std : [0.7523917850918396, 1.2524030916060058]\n",
      "\n",
      "asympt n = 100\n",
      "mean : [-0.2579010720607942, 0.12347968189842269]\n",
      "std : [0.8381608960284008, 1.1076950327922288]\n"
     ]
    }
   ],
   "source": [
    "data = st.norm.rvs(size=20)\n",
    "\n",
    "\n",
    "print(\"\\nasympt n = \" + str(len(data)))\n",
    "print(\"mean : \" + str(asymptotic_mean(data)))\n",
    "print(\"std : \"  + str(asymptotic_std(data)))\n",
    "\n",
    "data = st.norm.rvs(size=100)\n",
    "\n",
    "\n",
    "print(\"\\nasympt n = \" + str(len(data)))\n",
    "print(\"mean : \" + str(asymptotic_mean(data)))\n",
    "print(\"std : \"  + str(asymptotic_std(data)))"
   ]
  },
  {
   "cell_type": "code",
   "execution_count": null,
   "metadata": {},
   "outputs": [],
   "source": []
  }
 ],
 "metadata": {
  "kernelspec": {
   "display_name": "Python 3",
   "language": "python",
   "name": "python3"
  },
  "language_info": {
   "codemirror_mode": {
    "name": "ipython",
    "version": 3
   },
   "file_extension": ".py",
   "mimetype": "text/x-python",
   "name": "python",
   "nbconvert_exporter": "python",
   "pygments_lexer": "ipython3",
   "version": "3.8.5"
  }
 },
 "nbformat": 4,
 "nbformat_minor": 4
}

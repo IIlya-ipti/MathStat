{
 "cells": [
  {
   "cell_type": "code",
   "execution_count": 2,
   "metadata": {},
   "outputs": [],
   "source": [
    "%matplotlib inline\n",
    "import scipy.stats as st\n",
    "import numpy as np\n",
    "import matplotlib.pyplot as plt\n",
    "import seaborn as sns\n",
    "from matplotlib.pyplot import figure"
   ]
  },
  {
   "cell_type": "code",
   "execution_count": 3,
   "metadata": {},
   "outputs": [],
   "source": [
    "def getSortArray(func,size,mu = 0):\n",
    "    if(func == st.poisson):\n",
    "        array = func.rvs(size=size,mu=mu)\n",
    "    else:\n",
    "        array = func.rvs(size = size)\n",
    "    array.sort()\n",
    "    return array"
   ]
  },
  {
   "cell_type": "code",
   "execution_count": 51,
   "metadata": {},
   "outputs": [],
   "source": [
    "def cvart(p,array):\n",
    "        # на вход sort list\n",
    "        l = len(array)*p\n",
    "        if(int(l) != l):\n",
    "            return array[int(l) + 1]\n",
    "        else:\n",
    "            return array[int(l)]"
   ]
  },
  {
   "cell_type": "code",
   "execution_count": 62,
   "metadata": {},
   "outputs": [],
   "source": [
    "def toProbability(array):\n",
    "    ln = [0 for i in range(len(set(array)))]\n",
    "    index = 0\n",
    "    i = 0\n",
    "    while True:\n",
    "        ln[index] += 1\n",
    "        if(i == len(array) - 1):\n",
    "            break\n",
    "        i += 1\n",
    "        if(array[i] != array[i - 1]):\n",
    "            index += 1\n",
    "    for i in range(len(ln)):\n",
    "        ln[i] = ln[i]/len(ln)\n",
    "    return ln\n",
    "        "
   ]
  },
  {
   "cell_type": "code",
   "execution_count": 176,
   "metadata": {},
   "outputs": [],
   "source": [
    "def EmissionsProbability(func, size,mu = 0):\n",
    "    array = getSortArray(func,size,mu)\n",
    "    probability = toProbability(array)\n",
    "    array = sorted(list(set(array)))\n",
    "    print(array)\n",
    "    Q1 = cvart(0.25,array)\n",
    "    Q3 = cvart(0.75,array)\n",
    "    X1 = Q1 - 1.5*(Q3 - Q1)\n",
    "    X2 = Q3 + 1.5*(Q3 - Q1)\n",
    "    X1t = 0\n",
    "    X2t = 0\n",
    "    sm = 0\n",
    "    for i in range(len(array)):\n",
    "        if array[i] < X1:\n",
    "            X1t += probability[i]\n",
    "        if array[i] >= X2:\n",
    "            X2t += probability[i]\n",
    "    print(X1t+ X2t)\n",
    "    "
   ]
  },
  {
   "cell_type": "code",
   "execution_count": 187,
   "metadata": {},
   "outputs": [
    {
     "name": "stdout",
     "output_type": "stream",
     "text": [
      "[-1.7475704285470288, -1.552103757951806, -1.415360045380739, -1.3251462589576448, -1.1782719922319174, -0.8939226566804486, -0.5492829890453771, -0.5391612927881712, -0.1956109402559522, -0.1618702950392464, 0.0012357306329072006, 0.347244953758246, 0.40277174283160433, 0.7117482079711107, 0.8397048658198186, 0.8975631770774009, 0.9682573524187316, 1.276571913383458, 1.3391729595004962, 2.562629852824596]\n",
      "0\n"
     ]
    }
   ],
   "source": [
    "# Доля выбросов Ptв\n",
    "EmissionsProbability(st.norm,20)"
   ]
  },
  {
   "cell_type": "code",
   "execution_count": 190,
   "metadata": {},
   "outputs": [],
   "source": [
    "def mean(array):\n",
    "    n = len(array)\n",
    "    sm = 0\n",
    "    for i in range(len(array)):\n",
    "        sm += array[i]\n",
    "    sm /= n"
   ]
  },
  {
   "cell_type": "code",
   "execution_count": 191,
   "metadata": {},
   "outputs": [],
   "source": [
    "def disp(array):\n",
    "    mn = mean(array)\n",
    "    ds = 0\n",
    "    n = len(array)\n",
    "    for i in range(len(array)):\n",
    "        sm += (array[i] - mn)**2\n",
    "    sm /= n\n",
    "    return sm\n",
    "\n",
    "    "
   ]
  },
  {
   "cell_type": "code",
   "execution_count": 213,
   "metadata": {},
   "outputs": [
    {
     "data": {
      "text/plain": [
       "-0.6744897501960817"
      ]
     },
     "execution_count": 213,
     "metadata": {},
     "output_type": "execute_result"
    }
   ],
   "source": [
    "st.po.ppf(0.25)"
   ]
  },
  {
   "cell_type": "code",
   "execution_count": null,
   "metadata": {},
   "outputs": [],
   "source": []
  }
 ],
 "metadata": {
  "kernelspec": {
   "display_name": "Python 3",
   "language": "python",
   "name": "python3"
  },
  "language_info": {
   "codemirror_mode": {
    "name": "ipython",
    "version": 3
   },
   "file_extension": ".py",
   "mimetype": "text/x-python",
   "name": "python",
   "nbconvert_exporter": "python",
   "pygments_lexer": "ipython3",
   "version": "3.8.5"
  }
 },
 "nbformat": 4,
 "nbformat_minor": 4
}
